{
  "nbformat": 4,
  "nbformat_minor": 0,
  "metadata": {
    "colab": {
      "name": "keras-tuner",
      "version": "0.3.2",
      "provenance": [],
      "private_outputs": true,
      "collapsed_sections": [],
      "toc_visible": true
    },
    "kernelspec": {
      "name": "python3",
      "display_name": "Python 3"
    },
    "accelerator": "GPU"
  },
  "cells": [
    {
      "cell_type": "code",
      "metadata": {
        "id": "kJW_Q15HpKMo",
        "colab_type": "code",
        "colab": {}
      },
      "source": [
        "! pip install -q tensorflow-gpu==2.0.0-rc0\n",
        "import tensorflow as tf\n",
        "print(tf.__version__)"
      ],
      "execution_count": 0,
      "outputs": []
    },
    {
      "cell_type": "markdown",
      "metadata": {
        "id": "-MfgKwHetBnM",
        "colab_type": "text"
      },
      "source": [
        "- Getting the optimal model requires tuning many interdependant performances\n",
        "- Keras Tuner: Hypertuning for humans"
      ]
    },
    {
      "cell_type": "code",
      "metadata": {
        "id": "iYx5S3zYuk--",
        "colab_type": "code",
        "colab": {}
      },
      "source": [
        "from tensorflow.keras.layers import Dense, Dropout, Conv2D, Flatten"
      ],
      "execution_count": 0,
      "outputs": []
    },
    {
      "cell_type": "code",
      "metadata": {
        "id": "i8C_FTTVv-MO",
        "colab_type": "code",
        "colab": {}
      },
      "source": [
        "import numpy as np"
      ],
      "execution_count": 0,
      "outputs": []
    },
    {
      "cell_type": "code",
      "metadata": {
        "id": "bxsMeKaptH5a",
        "colab_type": "code",
        "colab": {}
      },
      "source": [
        "model = tf.keras.models.Sequential()\n",
        "model.add(Conv2D(32, (3,3), activation='relu', kernel_initializer='he_uniform', input_shape=(28,28,1)))\n",
        "model.add(Conv2D(64, (3,3), activation='relu', kernel_initializer='he_uniform'))\n",
        "model.add(Flatten())\n",
        "model.add(Dense(20))\n",
        "model.add(Dropout(0.2))\n",
        "model.add(Dense(10, activation='softmax'))\n",
        "model.compile(loss='categorical_crossentropy', optimizer=tf.keras.optimizers.Adam(0.001), metrics=['accuracy'])\n",
        "model.summary()"
      ],
      "execution_count": 0,
      "outputs": []
    },
    {
      "cell_type": "code",
      "metadata": {
        "id": "BMeFyhipuZGl",
        "colab_type": "code",
        "colab": {}
      },
      "source": [
        "mnist = tf.keras.datasets.mnist\n",
        "(X_train, y_train), (X_test, y_test) = mnist.load_data()"
      ],
      "execution_count": 0,
      "outputs": []
    },
    {
      "cell_type": "code",
      "metadata": {
        "id": "zcIwFLd7uZ4x",
        "colab_type": "code",
        "colab": {}
      },
      "source": [
        "X_train = tf.cast(np.reshape(X_train, (X_train.shape[0], X_train.shape[1], X_train.shape[2], 1)), tf.float64)\n",
        "X_test = tf.cast(np.reshape(X_test, (X_test.shape[0], X_test.shape[1], X_test.shape[2], 1)), tf.float64)"
      ],
      "execution_count": 0,
      "outputs": []
    },
    {
      "cell_type": "code",
      "metadata": {
        "id": "7t-l6rUh-Hhw",
        "colab_type": "code",
        "colab": {}
      },
      "source": [
        "y_train = tf.keras.utils.to_categorical(y_train)\n",
        "y_test = tf.keras.utils.to_categorical(y_test)"
      ],
      "execution_count": 0,
      "outputs": []
    },
    {
      "cell_type": "code",
      "metadata": {
        "id": "70YsHzwR8HXM",
        "colab_type": "code",
        "colab": {}
      },
      "source": [
        "model.fit(X_train, y_train, epochs=10, batch_size=128)"
      ],
      "execution_count": 0,
      "outputs": []
    },
    {
      "cell_type": "markdown",
      "metadata": {
        "id": "0L8SRfvzdnfq",
        "colab_type": "text"
      },
      "source": [
        "## Features of Keras-Tuner\n",
        "- **Intuitive API**: As easy as 1,2,3\n",
        "- **State of the art hypertuner algorithms**\n",
        "- **Tunable architectures ready to go**\n",
        "- **Seamless experiments recording**: Automatic recording to analyse and reproduce your results"
      ]
    },
    {
      "cell_type": "code",
      "metadata": {
        "id": "Ys7tjOX44jCN",
        "colab_type": "code",
        "colab": {}
      },
      "source": [
        "mnist = tf.keras.datasets.mnist\n",
        "(X_train, y_train), (X_test, y_test) = mnist.load_data()\n",
        "X_train = X_train.astype('float32') / 255.\n",
        "X_test = X_test.astype('float32') / 255."
      ],
      "execution_count": 0,
      "outputs": []
    },
    {
      "cell_type": "code",
      "metadata": {
        "id": "usV7G2Sj6v69",
        "colab_type": "code",
        "colab": {}
      },
      "source": [
        "X_train = tf.cast(np.reshape(X_train, (X_train.shape[0], X_train.shape[1], X_train.shape[2], 1)), tf.float64)\n",
        "X_test = tf.cast(np.reshape(X_test, (X_test.shape[0], X_test.shape[1], X_test.shape[2], 1)), tf.float64)"
      ],
      "execution_count": 0,
      "outputs": []
    },
    {
      "cell_type": "code",
      "metadata": {
        "id": "ePMRDby365KP",
        "colab_type": "code",
        "colab": {}
      },
      "source": [
        "y_train = tf.keras.utils.to_categorical(y_train)\n",
        "y_test = tf.keras.utils.to_categorical(y_test)"
      ],
      "execution_count": 0,
      "outputs": []
    },
    {
      "cell_type": "code",
      "metadata": {
        "id": "7lNFcy9L9eVi",
        "colab_type": "code",
        "colab": {}
      },
      "source": [
        "# Step 1: Wrap model in a function\n",
        "def model_fn(hp):\n",
        "    \n",
        "    # Step 2: Define the hyper-parameters\n",
        "    LR = hp.Choice('learning_rate', [0.001, 0.0005, 0.0001])\n",
        "    DROPOUT_RATE = hp.Float('dropout_rate', 0.0, 0.5, 5)\n",
        "    NUM_DIMS = hp.Int('num_dims',  8, 32, 8)\n",
        "    NUM_LAYERS = hp.Int('num_layers', 1, 3)\n",
        "    L2_NUM_FILTERS = hp.Int('l2_num_filters', 8, 64, 8)\n",
        "    L1_NUM_FILTERS = hp.Int('l1_num_filters', 8, 64, 8)\n",
        "        \n",
        "    # Step 3: Replace static values with hyper-parameters\n",
        "    model = tf.keras.models.Sequential()\n",
        "    model.add(Conv2D(L1_NUM_FILTERS, (3,3), activation='relu', kernel_initializer='he_uniform', input_shape=(28,28,1)))\n",
        "    model.add(Conv2D(L2_NUM_FILTERS, (3,3), activation='relu', kernel_initializer='he_uniform'))\n",
        "    model.add(Flatten())\n",
        "    for _ in range(NUM_LAYERS):\n",
        "        model.add(Dense(NUM_DIMS))\n",
        "        model.add(Dropout(DROPOUT_RATE))\n",
        "    model.add(Dense(10, activation='softmax'))\n",
        "    model.compile(loss='categorical_crossentropy', optimizer=tf.keras.optimizers.Adam(0.001), metrics=['accuracy'])\n",
        "    return model\n",
        "    "
      ],
      "execution_count": 0,
      "outputs": []
    },
    {
      "cell_type": "code",
      "metadata": {
        "id": "wHqhu8NhedWe",
        "colab_type": "code",
        "colab": {}
      },
      "source": [
        "!git clone https://github.com/keras-team/keras-tuner.git\n",
        "!cd keras-tuner\n",
        "!pip install -q '/content/keras-tuner/'"
      ],
      "execution_count": 0,
      "outputs": []
    },
    {
      "cell_type": "code",
      "metadata": {
        "id": "QEs6h2RPgUff",
        "colab_type": "code",
        "colab": {}
      },
      "source": [
        "import kerastuner\n",
        "from kerastuner.tuners import RandomSearch"
      ],
      "execution_count": 0,
      "outputs": []
    },
    {
      "cell_type": "code",
      "metadata": {
        "id": "WbtHK9G_2mFN",
        "colab_type": "code",
        "colab": {}
      },
      "source": [
        "tuner = RandomSearch(\n",
        "    model_fn,\n",
        "    objective='val_accuracy',\n",
        "    max_trials=5,\n",
        "    executions_per_trial=3,\n",
        "    directory='temp_dir')"
      ],
      "execution_count": 0,
      "outputs": []
    },
    {
      "cell_type": "code",
      "metadata": {
        "id": "d8xhyzD52mDM",
        "colab_type": "code",
        "colab": {}
      },
      "source": [
        "tuner.search_space_summary()"
      ],
      "execution_count": 0,
      "outputs": []
    },
    {
      "cell_type": "code",
      "metadata": {
        "id": "SCJuEd0J2mBW",
        "colab_type": "code",
        "colab": {}
      },
      "source": [
        "tuner.search(X_train, y_train,\n",
        "                epochs=10,\n",
        "                validation_data=(X_test, y_test))"
      ],
      "execution_count": 0,
      "outputs": []
    },
    {
      "cell_type": "code",
      "metadata": {
        "id": "IeSeQhz82l_i",
        "colab_type": "code",
        "colab": {}
      },
      "source": [
        "models = tuner.get_best_models(num_models=3)"
      ],
      "execution_count": 0,
      "outputs": []
    },
    {
      "cell_type": "code",
      "metadata": {
        "id": "L4eSi5R42l9s",
        "colab_type": "code",
        "colab": {}
      },
      "source": [
        "tuner.results_summary()"
      ],
      "execution_count": 0,
      "outputs": []
    },
    {
      "cell_type": "markdown",
      "metadata": {
        "colab_type": "text",
        "id": "GUij9SwC7LDb"
      },
      "source": [
        "## Upcoming Features\n",
        "- **Ecosystem intergration**\n",
        "- **Online Dashboard**: Monitoring on the go mobile app"
      ]
    },
    {
      "cell_type": "code",
      "metadata": {
        "id": "OFEEwXmYkARP",
        "colab_type": "code",
        "colab": {}
      },
      "source": [
        ""
      ],
      "execution_count": 0,
      "outputs": []
    }
  ]
}