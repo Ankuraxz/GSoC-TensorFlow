{
  "nbformat": 4,
  "nbformat_minor": 0,
  "metadata": {
    "colab": {
      "name": "tiny_imagenet_custom_resnet.ipynb",
      "version": "0.3.2",
      "provenance": [],
      "collapsed_sections": [
        "Tce3stUlHN0L"
      ],
      "toc_visible": true
    },
    "kernelspec": {
      "name": "python3",
      "display_name": "Python 3"
    },
    "language_info": {
      "codemirror_mode": {
        "name": "ipython",
        "version": 3
      },
      "file_extension": ".py",
      "mimetype": "text/x-python",
      "name": "python",
      "nbconvert_exporter": "python",
      "pygments_lexer": "ipython3",
      "version": "3.7.3"
    },
    "accelerator": "GPU"
  },
  "cells": [
    {
      "cell_type": "markdown",
      "metadata": {
        "colab_type": "text",
        "id": "Tce3stUlHN0L"
      },
      "source": [
        "##### Copyright 2019 The TensorFlow Authors.\n",
        "\n"
      ]
    },
    {
      "cell_type": "code",
      "metadata": {
        "colab_type": "code",
        "id": "tuOe1ymfHZPu",
        "colab": {}
      },
      "source": [
        "#@title Licensed under the Apache License, Version 2.0 (the \"License\");\n",
        "# you may not use this file except in compliance with the License.\n",
        "# You may obtain a copy of the License at\n",
        "#\n",
        "# https://www.apache.org/licenses/LICENSE-2.0\n",
        "#\n",
        "# Unless required by applicable law or agreed to in writing, software\n",
        "# distributed under the License is distributed on an \"AS IS\" BASIS,\n",
        "# WITHOUT WARRANTIES OR CONDITIONS OF ANY KIND, either express or implied.\n",
        "# See the License for the specific language governing permissions and\n",
        "# limitations under the License."
      ],
      "execution_count": 0,
      "outputs": []
    },
    {
      "cell_type": "markdown",
      "metadata": {
        "colab_type": "text",
        "id": "MfBg1C5NB3X0"
      },
      "source": [
        "# TinyImageNet Custom ResNet\n",
        "\n",
        "\n",
        "<table class=\"tfo-notebook-buttons\" align=\"left\">\n",
        "  <td>\n",
        "    <a target=\"_blank\" href=\"https://colab.research.google.com/github/tensorflow/examples/blob/master/template/notebook.ipynb\"><img src=\"https://www.tensorflow.org/images/colab_logo_32px.png\" />Run in Google Colab</a>\n",
        "  </td>\n",
        "  <td>\n",
        "    <a target=\"_blank\" href=\"https://github.com/tensorflow/examples/blob/master/template/notebook.ipynb\"><img src=\"https://www.tensorflow.org/images/GitHub-Mark-32px.png\" />View source on GitHub</a>\n",
        "  </td>\n",
        "</table>"
      ]
    },
    {
      "cell_type": "markdown",
      "metadata": {
        "colab_type": "text",
        "id": "xHxb-dlhMIzW"
      },
      "source": [
        "## Overview\n",
        "{TODO: Fill in detailed info of what this accomplishes}"
      ]
    },
    {
      "cell_type": "markdown",
      "metadata": {
        "id": "vNbeBoBWsDfa",
        "colab_type": "text"
      },
      "source": [
        "## Setup"
      ]
    },
    {
      "cell_type": "code",
      "metadata": {
        "id": "DBluBf7GsDfb",
        "colab_type": "code",
        "colab": {
          "base_uri": "https://localhost:8080/",
          "height": 87
        },
        "outputId": "e38e0286-2574-43b9-e669-97e6e3a01f3d"
      },
      "source": [
        "from __future__ import absolute_import\n",
        "from __future__ import division\n",
        "from __future__ import print_function\n",
        "\n",
        "! pip install -q tensorflow-gpu==2.0.0-beta1\n",
        "import tensorflow as tf\n",
        "assert tf.__version__.startswith('2')\n",
        "\n",
        "print(f'{tf.__version__}')"
      ],
      "execution_count": 1,
      "outputs": [
        {
          "output_type": "stream",
          "text": [
            "\u001b[K     |████████████████████████████████| 348.9MB 83kB/s \n",
            "\u001b[K     |████████████████████████████████| 3.1MB 45.5MB/s \n",
            "\u001b[K     |████████████████████████████████| 501kB 43.7MB/s \n",
            "\u001b[?25h2.0.0-beta1\n"
          ],
          "name": "stdout"
        }
      ]
    },
    {
      "cell_type": "code",
      "metadata": {
        "id": "gnv2z7-O2clU",
        "colab_type": "code",
        "colab": {}
      },
      "source": [
        "from tensorflow.keras.layers import BatchNormalization, Conv2D, AveragePooling2D, MaxPooling2D\n",
        "from tensorflow.keras.layers import ZeroPadding2D, Activation, Flatten, add\n",
        "from tensorflow.keras.layers import GlobalAveragePooling2D, SeparableConv2D\n",
        "from tensorflow.keras.callbacks import LearningRateScheduler, ModelCheckpoint\n",
        "from tensorflow.keras.optimizers import Adam\n",
        "from tensorflow.keras.regularizers import l2"
      ],
      "execution_count": 0,
      "outputs": []
    },
    {
      "cell_type": "code",
      "metadata": {
        "id": "qT8LP0hfsDfi",
        "colab_type": "code",
        "colab": {
          "base_uri": "https://localhost:8080/",
          "height": 52
        },
        "outputId": "fecc63d1-1516-4b96-db27-5f220efdc0dd"
      },
      "source": [
        "# Import the data\n",
        "\n",
        "import os\n",
        "download_path = os.getcwd()\n",
        "    \n",
        "import pathlib\n",
        "path = tf.keras.utils.get_file('tiny-imagenet-200.zip', extract=True, \n",
        "                               cache_subdir=download_path,\n",
        "                               origin='http://cs231n.stanford.edu/tiny-imagenet-200.zip')\n",
        "\n",
        "data_dir = pathlib.Path(path).with_suffix('')\n",
        "\n",
        "TRAIN = data_dir/\"train\"\n",
        "VAL = data_dir/\"val/images\"\n",
        "VAL_ANNOT = data_dir/'val/val_annotations.txt'"
      ],
      "execution_count": 3,
      "outputs": [
        {
          "output_type": "stream",
          "text": [
            "Downloading data from http://cs231n.stanford.edu/tiny-imagenet-200.zip\n",
            "248102912/248100043 [==============================] - 5s 0us/step\n"
          ],
          "name": "stdout"
        }
      ]
    },
    {
      "cell_type": "markdown",
      "metadata": {
        "id": "p-SQU5PLsDfn",
        "colab_type": "text"
      },
      "source": [
        "## Image augmentation and image generators\n",
        "- The function below returns the generators for the ImageDataGenerator objects we will use to train and validate our ResNet model.\n"
      ]
    },
    {
      "cell_type": "code",
      "metadata": {
        "id": "kGSBMQVqsDfo",
        "colab_type": "code",
        "colab": {}
      },
      "source": [
        "import pandas as pd\n",
        "from tensorflow.keras.preprocessing.image import ImageDataGenerator\n",
        "\n",
        "val_data = pd.read_csv(VAL_ANNOT , sep='\\t', names=['File', 'Class', 'X', 'Y', 'H', 'W'])\n",
        "val_data.drop(['X','Y','H', 'W'], axis=1, inplace=True)\n",
        "\n",
        "\n",
        "def train_val_gen(train_target=64, train_batch=64, val_target=64, val_batch=64):\n",
        "\t\t\n",
        "\t\ttrain_datagen = ImageDataGenerator(\n",
        "\t\t        rescale=1./255,\n",
        "\t\t        rotation_range=18, # Rotation Angle\n",
        "\t\t        zoom_range=0.15,  # Zoom Range\n",
        "\t\t        width_shift_range=0.2, # Width Shift\n",
        "\t\t        height_shift_range=0.2, # Height Shift\n",
        "\t\t        shear_range=0.15,  # Shear Range\n",
        "\t\t        horizontal_flip=True, # Horizontal Flip\n",
        "\t\t        fill_mode=\"reflect\", # Fills empty with reflections\n",
        "\t\t        brightness_range=[0.4, 1.6]  # Increasing/decreasing brightness\n",
        "\t\t)\n",
        "\n",
        "\t\ttrain_generator = train_datagen.flow_from_directory(\n",
        "\t\t        TRAIN,\n",
        "\t\t        target_size=(train_target, train_target),\n",
        "\t\t        batch_size=train_batch,\n",
        "\t\t        class_mode='categorical')\n",
        "\n",
        "\t\tval_datagen = ImageDataGenerator(rescale=1./255)\n",
        "\n",
        "\t\tval_generator = val_datagen.flow_from_dataframe(\n",
        "\t\t    val_data, directory=VAL, \n",
        "\t\t    x_col='File', \n",
        "\t\t    y_col='Class', \n",
        "\t\t    target_size=(val_target, val_target),\n",
        "\t\t    color_mode='rgb', \n",
        "\t\t    class_mode='categorical', \n",
        "\t\t    batch_size=val_batch, \n",
        "\t\t    shuffle=False, \n",
        "\t\t    seed=42\n",
        "\t\t)\n",
        "\n",
        "\t\treturn train_generator, val_generator"
      ],
      "execution_count": 0,
      "outputs": []
    },
    {
      "cell_type": "markdown",
      "metadata": {
        "id": "WlmlEVva1lgv",
        "colab_type": "text"
      },
      "source": [
        "## Defining callbacks to employ different training strategies"
      ]
    },
    {
      "cell_type": "code",
      "metadata": {
        "id": "iSzYk0oH10mv",
        "colab_type": "code",
        "colab": {}
      },
      "source": [
        ""
      ],
      "execution_count": 0,
      "outputs": []
    },
    {
      "cell_type": "markdown",
      "metadata": {
        "id": "fhrD1MEvsDft",
        "colab_type": "text"
      },
      "source": [
        "## Custom ResNet that uses Pre-Activation and BottleNeck Blocks with SeparableConv2D\n",
        "\n",
        "---\n",
        "\n",
        "\n",
        "-  We use 1x1 to increase the number of channels is to create a wider model with minimum increase in trainable parameters\n",
        "- This [reserach paper](https://arxiv.org/abs/1812.01187) documents improved accuracy with AveragePooling2D in the shortcut connection. This model showed a performance drop and hence was replaced with a 1x1 convolution.\n",
        "- Uses SeparableConv2D rather than vanilla Conv2D to reduce the nmber of parameters and make the model feasible to train on constrained environments like colab."
      ]
    },
    {
      "cell_type": "code",
      "metadata": {
        "id": "cNdKeWjwsDfz",
        "colab_type": "code",
        "colab": {}
      },
      "source": [
        "class ResNet:\n",
        "    \n",
        "    def residual_block(data, K, stride, axis, reduce=False, reg=0.0001, epsilon=2e-5, momentum=0.9):\n",
        "        shortcut = data\n",
        "\n",
        "        bn1 = BatchNormalization(axis=axis, epsilon=epsilon, momentum=momentum)(data)\n",
        "        act1 = Activation(\"relu\")(bn1)\n",
        "        conv1 = Conv2D(int(K * 0.25), (1, 1), use_bias=False, kernel_regularizer=l2(reg))(act1)\n",
        "\n",
        "        bn2 = BatchNormalization(axis=axis, epsilon=epsilon, momentum=momentum)(conv1)\n",
        "        act2 = Activation(\"relu\")(bn2)\n",
        "        conv2 = SeparableConv2D(int(K * 0.25), (3, 3), strides=stride, padding=\"same\", \n",
        "                                use_bias=False, kernel_regularizer=l2(reg),\n",
        "                               depthwise_regularizer=l2(reg), depthwise_initializer='glorot_uniform')(act2)\n",
        "\n",
        "        bn3 = BatchNormalization(axis=axis, epsilon=epsilon, momentum=momentum)(conv2)\n",
        "        act3 = Activation(\"relu\")(bn3)\n",
        "        conv3 = Conv2D(K, (1, 1), use_bias=False, kernel_regularizer=l2(reg))(act3)\n",
        "\n",
        "        if reduce:\n",
        "            shortcut = Conv2D(K, (1, 1), strides=stride, use_bias=False, \n",
        "                              kernel_regularizer=l2(reg))(act1)\n",
        "\n",
        "        x = add([conv3, shortcut])\n",
        "\n",
        "        return x\n",
        "\n",
        "    def build(width, height, depth, classes, stages, filters, reg=0.0001, epsilon=2e-5, momentum=0.9):\n",
        "        inputShape = (height, width, depth)\n",
        "        axis = -1\n",
        "\n",
        "        inputs = tf.keras.Input(shape=inputShape)\n",
        "        x = BatchNormalization(axis=axis, epsilon=epsilon, momentum=momentum)(inputs)\n",
        "\n",
        "        x = SeparableConv2D(filters[0], (5, 5), use_bias=False, padding=\"same\", kernel_regularizer=l2(reg),\n",
        "                  depthwise_regularizer=l2(reg), depthwise_initializer='glorot_uniform')(x)\n",
        "        \n",
        "        x = BatchNormalization(axis=axis, epsilon=epsilon, momentum=momentum)(x)\n",
        "        x = Activation(\"relu\")(x)\n",
        "        x = ZeroPadding2D((1, 1))(x)\n",
        "        x = MaxPooling2D((3, 3), strides=(2, 2))(x)\n",
        "    \n",
        "        for i in range(0, len(stages)):\n",
        "            stride = (1, 1) if i == 0 else (2, 2)\n",
        "            x = ResNet.residual_block(x, filters[i + 1], stride, axis, reduce=True, \n",
        "                                      epsilon=epsilon, momentum=momentum)\n",
        "\n",
        "            for j in range(0, stages[i] - 1):\n",
        "                x = ResNet.residual_block(x, filters[i + 1], (1, 1), axis, epsilon=epsilon, \n",
        "                                          momentum=momentum)\n",
        "\n",
        "        x = BatchNormalization(axis=axis, epsilon=epsilon, momentum=momentum)(x)\n",
        "        x = Activation(\"relu\")(x)\n",
        "        x = AveragePooling2D((8, 8))(x)\n",
        "        x = Conv2D(200, (1,1), kernel_regularizer=l2(reg))(x)\n",
        "        x = GlobalAveragePooling2D('channels_last')(x)\n",
        "        # x = Flatten()(x)\n",
        "        x = Activation(\"softmax\")(x)\n",
        "\n",
        "        model = tf.keras.Model(inputs, x, name=\"resnet\")\n",
        "\n",
        "        return model"
      ],
      "execution_count": 0,
      "outputs": []
    },
    {
      "cell_type": "code",
      "metadata": {
        "id": "oKVErJnbsDf5",
        "colab_type": "code",
        "colab": {}
      },
      "source": [
        "model = ResNet.build(None, None, 3, 200, (3, 4, 6), (64, 128, 256, 512), reg=0.0005)"
      ],
      "execution_count": 0,
      "outputs": []
    },
    {
      "cell_type": "code",
      "metadata": {
        "id": "UD15cK08sDf-",
        "colab_type": "code",
        "colab": {
          "base_uri": "https://localhost:8080/",
          "height": 1000
        },
        "outputId": "8ce0b84c-80c2-4f26-8096-ec0270fbc908"
      },
      "source": [
        "model.summary()"
      ],
      "execution_count": 15,
      "outputs": [
        {
          "output_type": "stream",
          "text": [
            "Model: \"resnet\"\n",
            "__________________________________________________________________________________________________\n",
            "Layer (type)                    Output Shape         Param #     Connected to                     \n",
            "==================================================================================================\n",
            "input_4 (InputLayer)            [(None, None, None,  0                                            \n",
            "__________________________________________________________________________________________________\n",
            "batch_normalization_48 (BatchNo (None, None, None, 3 12          input_4[0][0]                    \n",
            "__________________________________________________________________________________________________\n",
            "separable_conv2d_16 (SeparableC (None, None, None, 6 267         batch_normalization_48[0][0]     \n",
            "__________________________________________________________________________________________________\n",
            "batch_normalization_49 (BatchNo (None, None, None, 6 256         separable_conv2d_16[0][0]        \n",
            "__________________________________________________________________________________________________\n",
            "activation_45 (Activation)      (None, None, None, 6 0           batch_normalization_49[0][0]     \n",
            "__________________________________________________________________________________________________\n",
            "zero_padding2d_2 (ZeroPadding2D (None, None, None, 6 0           activation_45[0][0]              \n",
            "__________________________________________________________________________________________________\n",
            "max_pooling2d_2 (MaxPooling2D)  (None, None, None, 6 0           zero_padding2d_2[0][0]           \n",
            "__________________________________________________________________________________________________\n",
            "batch_normalization_50 (BatchNo (None, None, None, 6 256         max_pooling2d_2[0][0]            \n",
            "__________________________________________________________________________________________________\n",
            "activation_46 (Activation)      (None, None, None, 6 0           batch_normalization_50[0][0]     \n",
            "__________________________________________________________________________________________________\n",
            "conv2d_32 (Conv2D)              (None, None, None, 3 2048        activation_46[0][0]              \n",
            "__________________________________________________________________________________________________\n",
            "batch_normalization_51 (BatchNo (None, None, None, 3 128         conv2d_32[0][0]                  \n",
            "__________________________________________________________________________________________________\n",
            "activation_47 (Activation)      (None, None, None, 3 0           batch_normalization_51[0][0]     \n",
            "__________________________________________________________________________________________________\n",
            "separable_conv2d_17 (SeparableC (None, None, None, 3 1312        activation_47[0][0]              \n",
            "__________________________________________________________________________________________________\n",
            "batch_normalization_52 (BatchNo (None, None, None, 3 128         separable_conv2d_17[0][0]        \n",
            "__________________________________________________________________________________________________\n",
            "activation_48 (Activation)      (None, None, None, 3 0           batch_normalization_52[0][0]     \n",
            "__________________________________________________________________________________________________\n",
            "conv2d_33 (Conv2D)              (None, None, None, 1 4096        activation_48[0][0]              \n",
            "__________________________________________________________________________________________________\n",
            "conv2d_34 (Conv2D)              (None, None, None, 1 8192        activation_46[0][0]              \n",
            "__________________________________________________________________________________________________\n",
            "add_13 (Add)                    (None, None, None, 1 0           conv2d_33[0][0]                  \n",
            "                                                                 conv2d_34[0][0]                  \n",
            "__________________________________________________________________________________________________\n",
            "batch_normalization_53 (BatchNo (None, None, None, 1 512         add_13[0][0]                     \n",
            "__________________________________________________________________________________________________\n",
            "activation_49 (Activation)      (None, None, None, 1 0           batch_normalization_53[0][0]     \n",
            "__________________________________________________________________________________________________\n",
            "conv2d_35 (Conv2D)              (None, None, None, 3 4096        activation_49[0][0]              \n",
            "__________________________________________________________________________________________________\n",
            "batch_normalization_54 (BatchNo (None, None, None, 3 128         conv2d_35[0][0]                  \n",
            "__________________________________________________________________________________________________\n",
            "activation_50 (Activation)      (None, None, None, 3 0           batch_normalization_54[0][0]     \n",
            "__________________________________________________________________________________________________\n",
            "separable_conv2d_18 (SeparableC (None, None, None, 3 1312        activation_50[0][0]              \n",
            "__________________________________________________________________________________________________\n",
            "batch_normalization_55 (BatchNo (None, None, None, 3 128         separable_conv2d_18[0][0]        \n",
            "__________________________________________________________________________________________________\n",
            "activation_51 (Activation)      (None, None, None, 3 0           batch_normalization_55[0][0]     \n",
            "__________________________________________________________________________________________________\n",
            "conv2d_36 (Conv2D)              (None, None, None, 1 4096        activation_51[0][0]              \n",
            "__________________________________________________________________________________________________\n",
            "add_14 (Add)                    (None, None, None, 1 0           conv2d_36[0][0]                  \n",
            "                                                                 add_13[0][0]                     \n",
            "__________________________________________________________________________________________________\n",
            "batch_normalization_56 (BatchNo (None, None, None, 1 512         add_14[0][0]                     \n",
            "__________________________________________________________________________________________________\n",
            "activation_52 (Activation)      (None, None, None, 1 0           batch_normalization_56[0][0]     \n",
            "__________________________________________________________________________________________________\n",
            "conv2d_37 (Conv2D)              (None, None, None, 3 4096        activation_52[0][0]              \n",
            "__________________________________________________________________________________________________\n",
            "batch_normalization_57 (BatchNo (None, None, None, 3 128         conv2d_37[0][0]                  \n",
            "__________________________________________________________________________________________________\n",
            "activation_53 (Activation)      (None, None, None, 3 0           batch_normalization_57[0][0]     \n",
            "__________________________________________________________________________________________________\n",
            "separable_conv2d_19 (SeparableC (None, None, None, 3 1312        activation_53[0][0]              \n",
            "__________________________________________________________________________________________________\n",
            "batch_normalization_58 (BatchNo (None, None, None, 3 128         separable_conv2d_19[0][0]        \n",
            "__________________________________________________________________________________________________\n",
            "activation_54 (Activation)      (None, None, None, 3 0           batch_normalization_58[0][0]     \n",
            "__________________________________________________________________________________________________\n",
            "conv2d_38 (Conv2D)              (None, None, None, 1 4096        activation_54[0][0]              \n",
            "__________________________________________________________________________________________________\n",
            "add_15 (Add)                    (None, None, None, 1 0           conv2d_38[0][0]                  \n",
            "                                                                 add_14[0][0]                     \n",
            "__________________________________________________________________________________________________\n",
            "batch_normalization_59 (BatchNo (None, None, None, 1 512         add_15[0][0]                     \n",
            "__________________________________________________________________________________________________\n",
            "activation_55 (Activation)      (None, None, None, 1 0           batch_normalization_59[0][0]     \n",
            "__________________________________________________________________________________________________\n",
            "conv2d_39 (Conv2D)              (None, None, None, 6 8192        activation_55[0][0]              \n",
            "__________________________________________________________________________________________________\n",
            "batch_normalization_60 (BatchNo (None, None, None, 6 256         conv2d_39[0][0]                  \n",
            "__________________________________________________________________________________________________\n",
            "activation_56 (Activation)      (None, None, None, 6 0           batch_normalization_60[0][0]     \n",
            "__________________________________________________________________________________________________\n",
            "separable_conv2d_20 (SeparableC (None, None, None, 6 4672        activation_56[0][0]              \n",
            "__________________________________________________________________________________________________\n",
            "batch_normalization_61 (BatchNo (None, None, None, 6 256         separable_conv2d_20[0][0]        \n",
            "__________________________________________________________________________________________________\n",
            "activation_57 (Activation)      (None, None, None, 6 0           batch_normalization_61[0][0]     \n",
            "__________________________________________________________________________________________________\n",
            "conv2d_40 (Conv2D)              (None, None, None, 2 16384       activation_57[0][0]              \n",
            "__________________________________________________________________________________________________\n",
            "conv2d_41 (Conv2D)              (None, None, None, 2 32768       activation_55[0][0]              \n",
            "__________________________________________________________________________________________________\n",
            "add_16 (Add)                    (None, None, None, 2 0           conv2d_40[0][0]                  \n",
            "                                                                 conv2d_41[0][0]                  \n",
            "__________________________________________________________________________________________________\n",
            "batch_normalization_62 (BatchNo (None, None, None, 2 1024        add_16[0][0]                     \n",
            "__________________________________________________________________________________________________\n",
            "activation_58 (Activation)      (None, None, None, 2 0           batch_normalization_62[0][0]     \n",
            "__________________________________________________________________________________________________\n",
            "conv2d_42 (Conv2D)              (None, None, None, 6 16384       activation_58[0][0]              \n",
            "__________________________________________________________________________________________________\n",
            "batch_normalization_63 (BatchNo (None, None, None, 6 256         conv2d_42[0][0]                  \n",
            "__________________________________________________________________________________________________\n",
            "activation_59 (Activation)      (None, None, None, 6 0           batch_normalization_63[0][0]     \n",
            "__________________________________________________________________________________________________\n",
            "separable_conv2d_21 (SeparableC (None, None, None, 6 4672        activation_59[0][0]              \n",
            "__________________________________________________________________________________________________\n",
            "batch_normalization_64 (BatchNo (None, None, None, 6 256         separable_conv2d_21[0][0]        \n",
            "__________________________________________________________________________________________________\n",
            "activation_60 (Activation)      (None, None, None, 6 0           batch_normalization_64[0][0]     \n",
            "__________________________________________________________________________________________________\n",
            "conv2d_43 (Conv2D)              (None, None, None, 2 16384       activation_60[0][0]              \n",
            "__________________________________________________________________________________________________\n",
            "add_17 (Add)                    (None, None, None, 2 0           conv2d_43[0][0]                  \n",
            "                                                                 add_16[0][0]                     \n",
            "__________________________________________________________________________________________________\n",
            "batch_normalization_65 (BatchNo (None, None, None, 2 1024        add_17[0][0]                     \n",
            "__________________________________________________________________________________________________\n",
            "activation_61 (Activation)      (None, None, None, 2 0           batch_normalization_65[0][0]     \n",
            "__________________________________________________________________________________________________\n",
            "conv2d_44 (Conv2D)              (None, None, None, 6 16384       activation_61[0][0]              \n",
            "__________________________________________________________________________________________________\n",
            "batch_normalization_66 (BatchNo (None, None, None, 6 256         conv2d_44[0][0]                  \n",
            "__________________________________________________________________________________________________\n",
            "activation_62 (Activation)      (None, None, None, 6 0           batch_normalization_66[0][0]     \n",
            "__________________________________________________________________________________________________\n",
            "separable_conv2d_22 (SeparableC (None, None, None, 6 4672        activation_62[0][0]              \n",
            "__________________________________________________________________________________________________\n",
            "batch_normalization_67 (BatchNo (None, None, None, 6 256         separable_conv2d_22[0][0]        \n",
            "__________________________________________________________________________________________________\n",
            "activation_63 (Activation)      (None, None, None, 6 0           batch_normalization_67[0][0]     \n",
            "__________________________________________________________________________________________________\n",
            "conv2d_45 (Conv2D)              (None, None, None, 2 16384       activation_63[0][0]              \n",
            "__________________________________________________________________________________________________\n",
            "add_18 (Add)                    (None, None, None, 2 0           conv2d_45[0][0]                  \n",
            "                                                                 add_17[0][0]                     \n",
            "__________________________________________________________________________________________________\n",
            "batch_normalization_68 (BatchNo (None, None, None, 2 1024        add_18[0][0]                     \n",
            "__________________________________________________________________________________________________\n",
            "activation_64 (Activation)      (None, None, None, 2 0           batch_normalization_68[0][0]     \n",
            "__________________________________________________________________________________________________\n",
            "conv2d_46 (Conv2D)              (None, None, None, 6 16384       activation_64[0][0]              \n",
            "__________________________________________________________________________________________________\n",
            "batch_normalization_69 (BatchNo (None, None, None, 6 256         conv2d_46[0][0]                  \n",
            "__________________________________________________________________________________________________\n",
            "activation_65 (Activation)      (None, None, None, 6 0           batch_normalization_69[0][0]     \n",
            "__________________________________________________________________________________________________\n",
            "separable_conv2d_23 (SeparableC (None, None, None, 6 4672        activation_65[0][0]              \n",
            "__________________________________________________________________________________________________\n",
            "batch_normalization_70 (BatchNo (None, None, None, 6 256         separable_conv2d_23[0][0]        \n",
            "__________________________________________________________________________________________________\n",
            "activation_66 (Activation)      (None, None, None, 6 0           batch_normalization_70[0][0]     \n",
            "__________________________________________________________________________________________________\n",
            "conv2d_47 (Conv2D)              (None, None, None, 2 16384       activation_66[0][0]              \n",
            "__________________________________________________________________________________________________\n",
            "add_19 (Add)                    (None, None, None, 2 0           conv2d_47[0][0]                  \n",
            "                                                                 add_18[0][0]                     \n",
            "__________________________________________________________________________________________________\n",
            "batch_normalization_71 (BatchNo (None, None, None, 2 1024        add_19[0][0]                     \n",
            "__________________________________________________________________________________________________\n",
            "activation_67 (Activation)      (None, None, None, 2 0           batch_normalization_71[0][0]     \n",
            "__________________________________________________________________________________________________\n",
            "conv2d_48 (Conv2D)              (None, None, None, 1 32768       activation_67[0][0]              \n",
            "__________________________________________________________________________________________________\n",
            "batch_normalization_72 (BatchNo (None, None, None, 1 512         conv2d_48[0][0]                  \n",
            "__________________________________________________________________________________________________\n",
            "activation_68 (Activation)      (None, None, None, 1 0           batch_normalization_72[0][0]     \n",
            "__________________________________________________________________________________________________\n",
            "separable_conv2d_24 (SeparableC (None, None, None, 1 17536       activation_68[0][0]              \n",
            "__________________________________________________________________________________________________\n",
            "batch_normalization_73 (BatchNo (None, None, None, 1 512         separable_conv2d_24[0][0]        \n",
            "__________________________________________________________________________________________________\n",
            "activation_69 (Activation)      (None, None, None, 1 0           batch_normalization_73[0][0]     \n",
            "__________________________________________________________________________________________________\n",
            "conv2d_49 (Conv2D)              (None, None, None, 5 65536       activation_69[0][0]              \n",
            "__________________________________________________________________________________________________\n",
            "conv2d_50 (Conv2D)              (None, None, None, 5 131072      activation_67[0][0]              \n",
            "__________________________________________________________________________________________________\n",
            "add_20 (Add)                    (None, None, None, 5 0           conv2d_49[0][0]                  \n",
            "                                                                 conv2d_50[0][0]                  \n",
            "__________________________________________________________________________________________________\n",
            "batch_normalization_74 (BatchNo (None, None, None, 5 2048        add_20[0][0]                     \n",
            "__________________________________________________________________________________________________\n",
            "activation_70 (Activation)      (None, None, None, 5 0           batch_normalization_74[0][0]     \n",
            "__________________________________________________________________________________________________\n",
            "conv2d_51 (Conv2D)              (None, None, None, 1 65536       activation_70[0][0]              \n",
            "__________________________________________________________________________________________________\n",
            "batch_normalization_75 (BatchNo (None, None, None, 1 512         conv2d_51[0][0]                  \n",
            "__________________________________________________________________________________________________\n",
            "activation_71 (Activation)      (None, None, None, 1 0           batch_normalization_75[0][0]     \n",
            "__________________________________________________________________________________________________\n",
            "separable_conv2d_25 (SeparableC (None, None, None, 1 17536       activation_71[0][0]              \n",
            "__________________________________________________________________________________________________\n",
            "batch_normalization_76 (BatchNo (None, None, None, 1 512         separable_conv2d_25[0][0]        \n",
            "__________________________________________________________________________________________________\n",
            "activation_72 (Activation)      (None, None, None, 1 0           batch_normalization_76[0][0]     \n",
            "__________________________________________________________________________________________________\n",
            "conv2d_52 (Conv2D)              (None, None, None, 5 65536       activation_72[0][0]              \n",
            "__________________________________________________________________________________________________\n",
            "add_21 (Add)                    (None, None, None, 5 0           conv2d_52[0][0]                  \n",
            "                                                                 add_20[0][0]                     \n",
            "__________________________________________________________________________________________________\n",
            "batch_normalization_77 (BatchNo (None, None, None, 5 2048        add_21[0][0]                     \n",
            "__________________________________________________________________________________________________\n",
            "activation_73 (Activation)      (None, None, None, 5 0           batch_normalization_77[0][0]     \n",
            "__________________________________________________________________________________________________\n",
            "conv2d_53 (Conv2D)              (None, None, None, 1 65536       activation_73[0][0]              \n",
            "__________________________________________________________________________________________________\n",
            "batch_normalization_78 (BatchNo (None, None, None, 1 512         conv2d_53[0][0]                  \n",
            "__________________________________________________________________________________________________\n",
            "activation_74 (Activation)      (None, None, None, 1 0           batch_normalization_78[0][0]     \n",
            "__________________________________________________________________________________________________\n",
            "separable_conv2d_26 (SeparableC (None, None, None, 1 17536       activation_74[0][0]              \n",
            "__________________________________________________________________________________________________\n",
            "batch_normalization_79 (BatchNo (None, None, None, 1 512         separable_conv2d_26[0][0]        \n",
            "__________________________________________________________________________________________________\n",
            "activation_75 (Activation)      (None, None, None, 1 0           batch_normalization_79[0][0]     \n",
            "__________________________________________________________________________________________________\n",
            "conv2d_54 (Conv2D)              (None, None, None, 5 65536       activation_75[0][0]              \n",
            "__________________________________________________________________________________________________\n",
            "add_22 (Add)                    (None, None, None, 5 0           conv2d_54[0][0]                  \n",
            "                                                                 add_21[0][0]                     \n",
            "__________________________________________________________________________________________________\n",
            "batch_normalization_80 (BatchNo (None, None, None, 5 2048        add_22[0][0]                     \n",
            "__________________________________________________________________________________________________\n",
            "activation_76 (Activation)      (None, None, None, 5 0           batch_normalization_80[0][0]     \n",
            "__________________________________________________________________________________________________\n",
            "conv2d_55 (Conv2D)              (None, None, None, 1 65536       activation_76[0][0]              \n",
            "__________________________________________________________________________________________________\n",
            "batch_normalization_81 (BatchNo (None, None, None, 1 512         conv2d_55[0][0]                  \n",
            "__________________________________________________________________________________________________\n",
            "activation_77 (Activation)      (None, None, None, 1 0           batch_normalization_81[0][0]     \n",
            "__________________________________________________________________________________________________\n",
            "separable_conv2d_27 (SeparableC (None, None, None, 1 17536       activation_77[0][0]              \n",
            "__________________________________________________________________________________________________\n",
            "batch_normalization_82 (BatchNo (None, None, None, 1 512         separable_conv2d_27[0][0]        \n",
            "__________________________________________________________________________________________________\n",
            "activation_78 (Activation)      (None, None, None, 1 0           batch_normalization_82[0][0]     \n",
            "__________________________________________________________________________________________________\n",
            "conv2d_56 (Conv2D)              (None, None, None, 5 65536       activation_78[0][0]              \n",
            "__________________________________________________________________________________________________\n",
            "add_23 (Add)                    (None, None, None, 5 0           conv2d_56[0][0]                  \n",
            "                                                                 add_22[0][0]                     \n",
            "__________________________________________________________________________________________________\n",
            "batch_normalization_83 (BatchNo (None, None, None, 5 2048        add_23[0][0]                     \n",
            "__________________________________________________________________________________________________\n",
            "activation_79 (Activation)      (None, None, None, 5 0           batch_normalization_83[0][0]     \n",
            "__________________________________________________________________________________________________\n",
            "conv2d_57 (Conv2D)              (None, None, None, 1 65536       activation_79[0][0]              \n",
            "__________________________________________________________________________________________________\n",
            "batch_normalization_84 (BatchNo (None, None, None, 1 512         conv2d_57[0][0]                  \n",
            "__________________________________________________________________________________________________\n",
            "activation_80 (Activation)      (None, None, None, 1 0           batch_normalization_84[0][0]     \n",
            "__________________________________________________________________________________________________\n",
            "separable_conv2d_28 (SeparableC (None, None, None, 1 17536       activation_80[0][0]              \n",
            "__________________________________________________________________________________________________\n",
            "batch_normalization_85 (BatchNo (None, None, None, 1 512         separable_conv2d_28[0][0]        \n",
            "__________________________________________________________________________________________________\n",
            "activation_81 (Activation)      (None, None, None, 1 0           batch_normalization_85[0][0]     \n",
            "__________________________________________________________________________________________________\n",
            "conv2d_58 (Conv2D)              (None, None, None, 5 65536       activation_81[0][0]              \n",
            "__________________________________________________________________________________________________\n",
            "add_24 (Add)                    (None, None, None, 5 0           conv2d_58[0][0]                  \n",
            "                                                                 add_23[0][0]                     \n",
            "__________________________________________________________________________________________________\n",
            "batch_normalization_86 (BatchNo (None, None, None, 5 2048        add_24[0][0]                     \n",
            "__________________________________________________________________________________________________\n",
            "activation_82 (Activation)      (None, None, None, 5 0           batch_normalization_86[0][0]     \n",
            "__________________________________________________________________________________________________\n",
            "conv2d_59 (Conv2D)              (None, None, None, 1 65536       activation_82[0][0]              \n",
            "__________________________________________________________________________________________________\n",
            "batch_normalization_87 (BatchNo (None, None, None, 1 512         conv2d_59[0][0]                  \n",
            "__________________________________________________________________________________________________\n",
            "activation_83 (Activation)      (None, None, None, 1 0           batch_normalization_87[0][0]     \n",
            "__________________________________________________________________________________________________\n",
            "separable_conv2d_29 (SeparableC (None, None, None, 1 17536       activation_83[0][0]              \n",
            "__________________________________________________________________________________________________\n",
            "batch_normalization_88 (BatchNo (None, None, None, 1 512         separable_conv2d_29[0][0]        \n",
            "__________________________________________________________________________________________________\n",
            "activation_84 (Activation)      (None, None, None, 1 0           batch_normalization_88[0][0]     \n",
            "__________________________________________________________________________________________________\n",
            "conv2d_60 (Conv2D)              (None, None, None, 5 65536       activation_84[0][0]              \n",
            "__________________________________________________________________________________________________\n",
            "add_25 (Add)                    (None, None, None, 5 0           conv2d_60[0][0]                  \n",
            "                                                                 add_24[0][0]                     \n",
            "__________________________________________________________________________________________________\n",
            "batch_normalization_89 (BatchNo (None, None, None, 5 2048        add_25[0][0]                     \n",
            "__________________________________________________________________________________________________\n",
            "activation_85 (Activation)      (None, None, None, 5 0           batch_normalization_89[0][0]     \n",
            "__________________________________________________________________________________________________\n",
            "average_pooling2d_1 (AveragePoo (None, None, None, 5 0           activation_85[0][0]              \n",
            "__________________________________________________________________________________________________\n",
            "conv2d_61 (Conv2D)              (None, None, None, 2 102600      average_pooling2d_1[0][0]        \n",
            "__________________________________________________________________________________________________\n",
            "global_average_pooling2d (Globa (None, 200)          0           conv2d_61[0][0]                  \n",
            "__________________________________________________________________________________________________\n",
            "activation_86 (Activation)      (None, 200)          0           global_average_pooling2d[0][0]   \n",
            "==================================================================================================\n",
            "Total params: 1,329,215\n",
            "Trainable params: 1,315,513\n",
            "Non-trainable params: 13,702\n",
            "__________________________________________________________________________________________________\n"
          ],
          "name": "stdout"
        }
      ]
    },
    {
      "cell_type": "markdown",
      "metadata": {
        "id": "H9GdQWfCsDgE",
        "colab_type": "text"
      },
      "source": [
        "## Compile the model"
      ]
    },
    {
      "cell_type": "code",
      "metadata": {
        "id": "kib6v8vhsDgI",
        "colab_type": "code",
        "colab": {}
      },
      "source": [
        "opt = Adam(learning_rate=0.1, beta_1=0.9, beta_2=0.999, epsilon=0.1, amsgrad=False)\n",
        "model.compile(loss=\"categorical_crossentropy\", optimizer=opt, metrics=[\"accuracy\"])"
      ],
      "execution_count": 0,
      "outputs": []
    },
    {
      "cell_type": "markdown",
      "metadata": {
        "id": "5rwwKT2EsDgO",
        "colab_type": "text"
      },
      "source": [
        "## Using fit_generator to train the model\n",
        "ImageDataGenerator is best suited for augmenting images on the fly and training the model"
      ]
    },
    {
      "cell_type": "code",
      "metadata": {
        "id": "ztTE-5SJ83jy",
        "colab_type": "code",
        "colab": {
          "base_uri": "https://localhost:8080/",
          "height": 52
        },
        "outputId": "1162d8d5-73dd-4299-ff26-38baae66a79b"
      },
      "source": [
        "train_gen, val_gen = train_val_gen(train_target=16, train_batch=256, val_target=64, val_batch=64)"
      ],
      "execution_count": 17,
      "outputs": [
        {
          "output_type": "stream",
          "text": [
            "Found 100000 images belonging to 200 classes.\n",
            "Found 10000 validated image filenames belonging to 200 classes.\n"
          ],
          "name": "stdout"
        }
      ]
    },
    {
      "cell_type": "code",
      "metadata": {
        "id": "_paZU0BAsDgP",
        "colab_type": "code",
        "colab": {
          "base_uri": "https://localhost:8080/",
          "height": 285
        },
        "outputId": "8b114107-e2fc-4157-c88d-5611aa59f6bb"
      },
      "source": [
        "model.fit_generator(\n",
        "  train_gen,\n",
        "  steps_per_epoch=100000 // 256,\n",
        "  validation_data=val_gen,\n",
        "  validation_steps=10000 // 64,\n",
        "  epochs=20,\n",
        "  max_queue_size=256,\n",
        "  verbose=1\n",
        ")"
      ],
      "execution_count": 0,
      "outputs": [
        {
          "output_type": "stream",
          "text": [
            "Epoch 1/20\n"
          ],
          "name": "stdout"
        },
        {
          "output_type": "stream",
          "text": [
            "WARNING: Logging before flag parsing goes to stderr.\n",
            "W0731 17:43:15.474130 140119196542848 deprecation.py:323] From /usr/local/lib/python3.6/dist-packages/tensorflow/python/ops/math_grad.py:1250: add_dispatch_support.<locals>.wrapper (from tensorflow.python.ops.array_ops) is deprecated and will be removed in a future version.\n",
            "Instructions for updating:\n",
            "Use tf.where in 2.0, which has the same broadcast rule as np.where\n"
          ],
          "name": "stderr"
        },
        {
          "output_type": "stream",
          "text": [
            "390/390 [==============================] - 133s 342ms/step - loss: 5.6974 - accuracy: 0.0198 - val_loss: 5.5421 - val_accuracy: 0.0270\n",
            "Epoch 2/20\n",
            "390/390 [==============================] - 79s 202ms/step - loss: 5.3679 - accuracy: 0.0363 - val_loss: 5.3522 - val_accuracy: 0.0425\n",
            "Epoch 3/20\n",
            "390/390 [==============================] - 88s 225ms/step - loss: 5.1441 - accuracy: 0.0527 - val_loss: 5.2290 - val_accuracy: 0.0548\n",
            "Epoch 4/20\n",
            "390/390 [==============================] - 85s 217ms/step - loss: 4.9387 - accuracy: 0.0745 - val_loss: 4.9311 - val_accuracy: 0.0676\n",
            "Epoch 5/20\n",
            " 34/390 [=>............................] - ETA: 1:12 - loss: 4.8117 - accuracy: 0.0988"
          ],
          "name": "stdout"
        }
      ]
    },
    {
      "cell_type": "code",
      "metadata": {
        "id": "3YytXkT3CLYI",
        "colab_type": "code",
        "colab": {}
      },
      "source": [
        "# Save the model\n",
        "filepath = \"/content/epoch_20.hdf5\"\n",
        "\n",
        "model.save(\n",
        "    filepath,\n",
        "    overwrite=True,\n",
        "    include_optimizer=True\n",
        ")\n",
        "\n",
        "# Load it again to continue training\n",
        "model = tf.keras.models.load_model(\n",
        "    filepath,\n",
        "    custom_objects=None,\n",
        "    compile=True\n",
        ")"
      ],
      "execution_count": 0,
      "outputs": []
    },
    {
      "cell_type": "code",
      "metadata": {
        "id": "n-bTMEzKN-g8",
        "colab_type": "code",
        "colab": {}
      },
      "source": [
        "train_gen, val_gen = train_val_gen(train_target=32, train_batch=128, val_target=64, val_batch=64)\n",
        "\n",
        "model.fit_generator(\n",
        "  train_gen,\n",
        "  steps_per_epoch=100000 // 128,\n",
        "  validation_data=val_gen,\n",
        "  validation_steps=10000 // 64,\n",
        "  epochs=20,\n",
        "  max_queue_size=64,\n",
        "  verbose=1\n",
        ")"
      ],
      "execution_count": 0,
      "outputs": []
    },
    {
      "cell_type": "code",
      "metadata": {
        "id": "3-bdJUGOJLUp",
        "colab_type": "code",
        "colab": {}
      },
      "source": [
        "# Save the model\n",
        "filepath = \"/content/epoch_40.hdf5\"\n",
        "\n",
        "model.save(\n",
        "    filepath,\n",
        "    overwrite=True,\n",
        "    include_optimizer=True\n",
        ")\n",
        "\n",
        "# Load it again to continue training\n",
        "model = tf.keras.models.load_model(\n",
        "    filepath,\n",
        "    custom_objects=None,\n",
        "    compile=True\n",
        ")"
      ],
      "execution_count": 0,
      "outputs": []
    },
    {
      "cell_type": "code",
      "metadata": {
        "id": "M-6IvpOvJNFC",
        "colab_type": "code",
        "colab": {}
      },
      "source": [
        "train_gen, val_gen = train_val_gen(train_target=64, train_batch=64, val_target=64, val_batch=64)\n",
        "\n",
        "model.fit_generator(\n",
        "  train_gen,\n",
        "  steps_per_epoch=100000 // 64,\n",
        "  validation_data=val_gen,\n",
        "  validation_steps=10000 // 64,\n",
        "  epochs=20,\n",
        "  max_queue_size=64,\n",
        "  verbose=1\n",
        ")"
      ],
      "execution_count": 0,
      "outputs": []
    },
    {
      "cell_type": "code",
      "metadata": {
        "id": "HSq0SvRoJYot",
        "colab_type": "code",
        "colab": {}
      },
      "source": [
        "# Save the model\n",
        "filepath = \"/content/epoch_60.hdf5\"\n",
        "\n",
        "model.save(\n",
        "    filepath,\n",
        "    overwrite=True,\n",
        "    include_optimizer=True\n",
        ")"
      ],
      "execution_count": 0,
      "outputs": []
    },
    {
      "cell_type": "markdown",
      "metadata": {
        "id": "mwZkcCnEsDgU",
        "colab_type": "text"
      },
      "source": [
        "### List of references for easy lookup\n",
        "\n",
        "---\n",
        "\n",
        "1. Building blocks of interpretability: [Link](https://distill.pub/2018/building-blocks/) (Holy Grail of Intuition!)\n",
        "2. Deep Residual Learning for image classification: [Link](https://arxiv.org/abs/1512.03385) (Resnet Paper)\n",
        "3. Bag of tricks for image classification: [Link](https://arxiv.org/abs/1812.01187) (Tweaks and tricks to Resnet for increased performance paper)\n",
        "2. Imbalanced Deep Learning by Minority Class\n",
        "Incremental Rectification: [Link](https://arxiv.org/pdf/1804.10851.pdf) (Selectively Sampling Data paper)\n",
        "2. Improved Regularization of Convolutional Neural Networks with Cutout: [Link](https://arxiv.org/pdf/1708.04552.pdf) (Cutout/Occlusion Augmentation paper)\n",
        "3. Survey of resampling techniques for improving\n",
        "classification performance in unbalanced datasets [Link](https://arxiv.org/pdf/1608.06048v1.pdf) (Resampling paper)"
      ]
    }
  ]
}